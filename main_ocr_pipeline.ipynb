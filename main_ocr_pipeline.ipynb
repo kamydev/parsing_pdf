{
 "cells": [
  {
   "cell_type": "markdown",
   "id": "faa511c3",
   "metadata": {},
   "source": [
    "# The Main OCR Pipeline"
   ]
  },
  {
   "cell_type": "markdown",
   "id": "776724cd",
   "metadata": {},
   "source": [
    "### Imports & Config"
   ]
  },
  {
   "cell_type": "code",
   "execution_count": 1,
   "id": "5f51c42c",
   "metadata": {},
   "outputs": [
    {
     "name": "stderr",
     "output_type": "stream",
     "text": [
      "c:\\Python311\\Lib\\site-packages\\tqdm\\auto.py:21: TqdmWarning: IProgress not found. Please update jupyter and ipywidgets. See https://ipywidgets.readthedocs.io/en/stable/user_install.html\n",
      "  from .autonotebook import tqdm as notebook_tqdm\n",
      "c:\\Python311\\Lib\\site-packages\\fpdf\\__init__.py:40: UserWarning: You have both PyFPDF & fpdf2 installed. Both packages cannot be installed at the same time as they share the same module namespace. To only keep fpdf2, run: pip uninstall --yes pypdf && pip install --upgrade fpdf2\n",
      "  warnings.warn(\n"
     ]
    }
   ],
   "source": [
    "from ocr_pipeline import PDFtoExcelOCR\n",
    "import matplotlib.pyplot as plt\n",
    "import cv2\n",
    "from PIL import Image\n",
    "import os\n",
    "\n",
    "PDF_PATH = r\"./document.pdf\"  \n",
    "OUTPUT_DIR = r\"./output\"\n",
    "TESSERACT_CMD = r\"C:\\Program Files\\Tesseract-OCR\\tesseract.exe\"\n",
    "POPLER_BIN_PATH = r\"C:\\poppler\\bin\""
   ]
  },
  {
   "cell_type": "markdown",
   "id": "cf20fc2d",
   "metadata": {},
   "source": [
    "### Convert PDF to Images & Visualize"
   ]
  },
  {
   "cell_type": "code",
   "execution_count": 2,
   "id": "0283c6c2",
   "metadata": {},
   "outputs": [
    {
     "name": "stderr",
     "output_type": "stream",
     "text": [
      "c:\\Python311\\Lib\\site-packages\\paddle\\utils\\cpp_extension\\extension_utils.py:715: UserWarning: No ccache found. Please be aware that recompiling all source files may be required. You can download and install ccache from: https://github.com/ccache/ccache/blob/master/doc/INSTALL.md\n",
      "  warnings.warn(warning_message)\n",
      "\u001b[32mCreating model: ('PP-LCNet_x1_0_doc_ori', None)\u001b[0m\n",
      "\u001b[32mUsing official model (PP-LCNet_x1_0_doc_ori), the model files will be automatically downloaded and saved in C:\\Users\\DZKAM\\.paddlex\\official_models.\u001b[0m\n",
      "Fetching 6 files: 100%|██████████| 6/6 [00:00<00:00, 2996.64it/s]\n",
      "\u001b[32mCreating model: ('UVDoc', None)\u001b[0m\n",
      "\u001b[33mThe model(UVDoc) is not supported to run in MKLDNN mode! Using `paddle` instead!\u001b[0m\n",
      "\u001b[32mUsing official model (UVDoc), the model files will be automatically downloaded and saved in C:\\Users\\DZKAM\\.paddlex\\official_models.\u001b[0m\n",
      "Fetching 6 files: 100%|██████████| 6/6 [00:00<?, ?it/s]\n",
      "\u001b[32mCreating model: ('PP-LCNet_x1_0_textline_ori', None)\u001b[0m\n",
      "\u001b[32mUsing official model (PP-LCNet_x1_0_textline_ori), the model files will be automatically downloaded and saved in C:\\Users\\DZKAM\\.paddlex\\official_models.\u001b[0m\n",
      "Fetching 6 files: 100%|██████████| 6/6 [00:00<?, ?it/s]\n",
      "\u001b[32mCreating model: ('PP-OCRv5_server_det', None)\u001b[0m\n",
      "\u001b[32mUsing official model (PP-OCRv5_server_det), the model files will be automatically downloaded and saved in C:\\Users\\DZKAM\\.paddlex\\official_models.\u001b[0m\n",
      "Fetching 6 files: 100%|██████████| 6/6 [00:00<?, ?it/s]\n",
      "\u001b[32mCreating model: ('latin_PP-OCRv5_mobile_rec', None)\u001b[0m\n",
      "\u001b[32mUsing official model (latin_PP-OCRv5_mobile_rec), the model files will be automatically downloaded and saved in C:\\Users\\DZKAM\\.paddlex\\official_models.\u001b[0m\n",
      "Fetching 6 files: 100%|██████████| 6/6 [00:00<?, ?it/s]\n"
     ]
    },
    {
     "name": "stdout",
     "output_type": "stream",
     "text": [
      "✅ Converted 2 pages to images.\n"
     ]
    }
   ],
   "source": [
    "ocr = PDFtoExcelOCR(\n",
    "    pdf_path=PDF_PATH,\n",
    "    output_dir=OUTPUT_DIR,\n",
    "    tesseract_cmd=TESSERACT_CMD,\n",
    "    poppler_path=POPLER_BIN_PATH\n",
    ")\n",
    "image_paths = ocr.convert_pdf_to_images()\n",
    "print(f\"✅ Converted {len(image_paths)} pages to images.\")\n"
   ]
  },
  {
   "cell_type": "markdown",
   "id": "e8546f4b",
   "metadata": {},
   "source": [
    "### Preview First Pages"
   ]
  },
  {
   "cell_type": "code",
   "execution_count": 3,
   "id": "1e2a3363",
   "metadata": {},
   "outputs": [],
   "source": [
    "# first_image = Image.open(image_paths[0])\n",
    "# plt.figure(figsize=(10, 12))\n",
    "# plt.imshow(first_image)\n",
    "# plt.axis(\"off\")\n",
    "# plt.title(\"First Page of PDF\")\n",
    "# plt.show()\n"
   ]
  },
  {
   "cell_type": "markdown",
   "id": "a446197a",
   "metadata": {},
   "source": [
    "# Preprocessing + OCR + Live Preview"
   ]
  },
  {
   "cell_type": "code",
   "execution_count": 4,
   "id": "a6b02020",
   "metadata": {},
   "outputs": [
    {
     "name": "stdout",
     "output_type": "stream",
     "text": [
      "\n",
      "📄 Processing page 1/2\n",
      "📐 Detected 2 table(s)\n",
      "\n",
      "📄 Processing page 2/2\n",
      "📐 Detected 2 table(s)\n",
      "✅ Extracted 28 content blocks.\n"
     ]
    }
   ],
   "source": [
    "content_blocks = ocr.run_pipeline()\n",
    "print(f\"✅ Extracted {len(content_blocks)} content blocks.\")\n"
   ]
  },
  {
   "cell_type": "code",
   "execution_count": 5,
   "id": "199df25a",
   "metadata": {},
   "outputs": [],
   "source": [
    "# img = cv2.imread(image_paths[0])\n",
    "# pre = ocr.preprocess_image(image_paths[0])\n",
    "# tables = ocr.detect_tables(pre)\n",
    "\n",
    "# for (x1, y1, x2, y2) in tables:\n",
    "#     cv2.rectangle(img, (x1, y1), (x2, y2), (0, 0, 255), 2)\n",
    "\n",
    "# plt.figure(figsize=(10, 10))\n",
    "# plt.imshow(cv2.cvtColor(img, cv2.COLOR_BGR2RGB))\n",
    "# plt.title(\"Detected Tables\")\n",
    "# plt.axis(\"off\")\n",
    "# plt.show()\n"
   ]
  },
  {
   "cell_type": "markdown",
   "id": "ab99c0a8",
   "metadata": {},
   "source": [
    "### Export to text file"
   ]
  },
  {
   "cell_type": "code",
   "execution_count": 6,
   "id": "75455212",
   "metadata": {},
   "outputs": [
    {
     "name": "stdout",
     "output_type": "stream",
     "text": [
      "✅ Text content saved to: ./output\\extracted_content.txt\n"
     ]
    }
   ],
   "source": [
    "text_output_path = os.path.join(OUTPUT_DIR, \"extracted_content.txt\")\n",
    "ocr.export_to_txt(content_blocks, text_output_path)\n",
    "print(f\"✅ Text content saved to: {text_output_path}\")"
   ]
  },
  {
   "cell_type": "markdown",
   "id": "ab866903",
   "metadata": {},
   "source": [
    "### Export to PDF file"
   ]
  },
  {
   "cell_type": "code",
   "execution_count": 7,
   "id": "4f74cbbf",
   "metadata": {},
   "outputs": [
    {
     "name": "stdout",
     "output_type": "stream",
     "text": [
      "✅ PDF content saved to: ./output\\extracted_content.pdf\n"
     ]
    }
   ],
   "source": [
    "pdf_output_path = os.path.join(OUTPUT_DIR, \"extracted_content.pdf\")\n",
    "ocr.export_structured_to_pdf(content_blocks, pdf_output_path)\n",
    "print(f\"✅ PDF content saved to: {pdf_output_path}\")"
   ]
  }
 ],
 "metadata": {
  "kernelspec": {
   "display_name": "Python 3",
   "language": "python",
   "name": "python3"
  },
  "language_info": {
   "codemirror_mode": {
    "name": "ipython",
    "version": 3
   },
   "file_extension": ".py",
   "mimetype": "text/x-python",
   "name": "python",
   "nbconvert_exporter": "python",
   "pygments_lexer": "ipython3",
   "version": "3.11.3"
  }
 },
 "nbformat": 4,
 "nbformat_minor": 5
}
